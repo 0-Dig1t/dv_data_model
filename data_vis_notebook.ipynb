{
 "cells": [
  {
   "cell_type": "code",
   "execution_count": 59,
   "id": "680d61f9",
   "metadata": {},
   "outputs": [],
   "source": [
    "import os\n",
    "from PIL import Image\n",
    "from torchvision import transforms\n",
    "from torch.utils.data import Dataset, random_split, DataLoader"
   ]
  },
  {
   "cell_type": "code",
   "execution_count": 60,
   "id": "9c019b66",
   "metadata": {},
   "outputs": [],
   "source": [
    "using_pretrained_model = False"
   ]
  },
  {
   "cell_type": "markdown",
   "id": "ac71eba3",
   "metadata": {},
   "source": [
    "# Data Pre Processing\n"
   ]
  },
  {
   "cell_type": "code",
   "execution_count": 61,
   "id": "d3b2ed9f",
   "metadata": {},
   "outputs": [],
   "source": [
    "transform = transforms.Compose([\n",
    "    transforms.ToTensor(),\n",
    "])\n",
    "\n",
    "class NutritionDataset(Dataset):\n",
    "    def __init__(self, image_paths, transform=None):\n",
    "        self.image_paths = image_paths\n",
    "        self.transform = transform\n",
    "\n",
    "    def __len__(self):\n",
    "        return len(self.image_paths)\n",
    "\n",
    "    def __getitem__(self, idx):\n",
    "        img_path = self.image_paths[idx]\n",
    "        image = Image.open(img_path).convert('RGB')\n",
    "        label = img_path.split(os.path.sep)[1]\n",
    "\n",
    "        if self.transform:\n",
    "            image = self.transform(image)\n",
    "        else:\n",
    "            image = transform(image)\n",
    "\n",
    "        return image, label"
   ]
  },
  {
   "cell_type": "code",
   "execution_count": 62,
   "id": "a9aaf777",
   "metadata": {},
   "outputs": [
    {
     "name": "stdout",
     "output_type": "stream",
     "text": [
      "Creating image paths list...\n",
      "54845\n"
     ]
    }
   ],
   "source": [
    "# Create images paths\n",
    "print(\"Creating image paths list...\")\n",
    "dir_path = 'raw_images'\n",
    "\n",
    "image_paths = []\n",
    "\n",
    "for dish_dir in os.listdir(dir_path):\n",
    "    img_dir = os.path.join(dir_path, dish_dir, 'frames_sampled30')\n",
    "\n",
    "    if not os.path.exists(img_dir):\n",
    "        continue\n",
    "    \n",
    "    for image in os.listdir(img_dir):\n",
    "        img_path = os.path.join(img_dir, image)\n",
    "        image_paths.append(img_path)\n",
    "\n",
    "print(len(image_paths))"
   ]
  },
  {
   "cell_type": "code",
   "execution_count": null,
   "id": "cb1954ce",
   "metadata": {},
   "outputs": [
    {
     "name": "stdout",
     "output_type": "stream",
     "text": [
      "Mean: tensor([0.5005, 0.4726, 0.3732])\n",
      "Std: tensor([0.2193, 0.2296, 0.2398])\n"
     ]
    }
   ],
   "source": [
    "# Calculating statistics (DO NOT RUN! WILL TAKE FOREVER)\n",
    "# stats_dataset = NutritionDataset(image_paths)\n",
    "# data_loader = DataLoader(stats_dataset, batch_size=32, shuffle=False)\n",
    "\n",
    "# mean = 0.0\n",
    "# std = 0.0\n",
    "# total_images_count = 0\n",
    "\n",
    "# for images, _ in data_loader:\n",
    "#     batch_samples = images.size(0)\n",
    "#     images = images.view(batch_samples, images.size(1), -1)\n",
    "#     mean += images.mean(dim=2).sum(dim=0)\n",
    "#     std += images.std(dim=2).sum(dim=0)\n",
    "#     total_images_count += batch_samples\n",
    "\n",
    "# mean /= total_images_count\n",
    "# std /= total_images_count\n",
    "\n",
    "# print(f\"Mean: {mean}\")\n",
    "# print(f\"Std: {std}\")"
   ]
  },
  {
   "cell_type": "code",
   "execution_count": 64,
   "id": "02bbd863",
   "metadata": {},
   "outputs": [],
   "source": [
    "# Transforms/Data Augmentation\n",
    "\n",
    "input_size = (225, 225)\n",
    "\n",
    "if using_pretrained_model:\n",
    "    # Replace with the pretrained model's stats\n",
    "    data_normals = {\n",
    "        'mean': [0.485, 0.456, 0.406],\n",
    "        'std': [0.229, 0.224, 0.225]\n",
    "    }\n",
    "else:\n",
    "    # mean and std of the entire dataset\n",
    "    data_normals = {\n",
    "        'mean': [0.5005, 0.4726, 0.3732],\n",
    "        'std': [0.2193, 0.2296, 0.2398]\n",
    "    }\n",
    "    \n",
    "\n",
    "train_transform = transforms.Compose([\n",
    "    transforms.RandomResizedCrop(input_size),\n",
    "    transforms.RandomHorizontalFlip(),\n",
    "    transforms.RandomRotation(15),\n",
    "    transforms.ColorJitter(\n",
    "        brightness=0.2,\n",
    "        contrast=0.2,\n",
    "        saturation=0.2,\n",
    "        hue=0.1\n",
    "    ),\n",
    "    transforms.ToTensor(),\n",
    "    transforms.Normalize(\n",
    "        mean=data_normals['mean'],\n",
    "        std=data_normals['std']\n",
    "    )\n",
    "])\n",
    "\n",
    "test_transform = transforms.Compose([\n",
    "    transforms.Resize(input_size),\n",
    "    transforms.ToTensor(),\n",
    "    transforms.Normalize(\n",
    "        mean=data_normals['mean'],\n",
    "        std=data_normals['std']\n",
    "    )\n",
    "])"
   ]
  },
  {
   "cell_type": "code",
   "execution_count": 65,
   "id": "ccc91407",
   "metadata": {},
   "outputs": [
    {
     "name": "stdout",
     "output_type": "stream",
     "text": [
      "Train Loader... \n",
      "\n",
      "torch.Size([32, 3, 225, 225]) 32\n",
      "torch.Size([32, 3, 225, 225]) 32\n",
      "torch.Size([32, 3, 225, 225]) 32\n",
      "torch.Size([32, 3, 225, 225]) 32\n",
      "torch.Size([32, 3, 225, 225]) 32\n",
      "Test Loader...\n",
      "torch.Size([32, 3, 225, 225]) 32\n",
      "torch.Size([32, 3, 225, 225]) 32\n",
      "torch.Size([32, 3, 225, 225]) 32\n",
      "torch.Size([32, 3, 225, 225]) 32\n",
      "torch.Size([32, 3, 225, 225]) 32\n"
     ]
    }
   ],
   "source": [
    "train_test_split = [0.7, 0.3]\n",
    "train_imgs, test_imgs = random_split(image_paths, train_test_split)\n",
    "\n",
    "train_set = NutritionDataset(train_imgs, transform=train_transform)\n",
    "test_set = NutritionDataset(test_imgs, transform=test_transform)\n",
    "\n",
    "train_loader = DataLoader(train_set, batch_size=32, shuffle=True)\n",
    "test_loader = DataLoader(test_set, batch_size=32, shuffle=False)\n",
    "\n",
    "# Checking Train loader\n",
    "print(\"Train Loader...\")\n",
    "for i, (images, labels) in enumerate(train_loader):\n",
    "    if i == 5:\n",
    "        break\n",
    "    print(images.shape, len(labels))\n",
    "\n",
    "# Checking Test loader\n",
    "print(\"Test Loader...\")\n",
    "for i, (images, labels) in enumerate(test_loader):\n",
    "    if i == 5:\n",
    "        break\n",
    "    print(images.shape, len(labels))\n",
    "\n",
    "\n"
   ]
  }
 ],
 "metadata": {
  "kernelspec": {
   "display_name": "Python 3",
   "language": "python",
   "name": "python3"
  },
  "language_info": {
   "codemirror_mode": {
    "name": "ipython",
    "version": 3
   },
   "file_extension": ".py",
   "mimetype": "text/x-python",
   "name": "python",
   "nbconvert_exporter": "python",
   "pygments_lexer": "ipython3",
   "version": "3.10.16"
  }
 },
 "nbformat": 4,
 "nbformat_minor": 5
}
